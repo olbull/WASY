{
 "cells": [
  {
   "cell_type": "code",
   "execution_count": 2,
   "metadata": {
    "collapsed": true
   },
   "outputs": [],
   "source": [
    "import numpy as np\n",
    "import pandas as pd\n",
    "from datetime import datetime\n",
    "import matplotlib.pyplot as plt\n",
    "import os"
   ]
  },
  {
   "cell_type": "code",
   "execution_count": 8,
   "outputs": [
    {
     "name": "stdout",
     "output_type": "stream",
     "text": [
      "<class 'pandas.core.frame.DataFrame'>\n",
      "RangeIndex: 50739 entries, 0 to 50738\n",
      "Data columns (total 10 columns):\n",
      " #   Column         Non-Null Count  Dtype  \n",
      "---  ------         --------------  -----  \n",
      " 0   x              50739 non-null  float64\n",
      " 1   skin_temp      50739 non-null  float64\n",
      " 2   bulk_temp      49222 non-null  float64\n",
      " 3   air_temp       50429 non-null  float64\n",
      " 4   precipitation  50739 non-null  float64\n",
      " 5   windspeed      50739 non-null  float64\n",
      " 6   solar_W        50735 non-null  float64\n",
      " 7   rel_humidity   50429 non-null  float64\n",
      " 8   air_pressure   50739 non-null  float64\n",
      " 9   datetime       50739 non-null  object \n",
      "dtypes: float64(9), object(1)\n",
      "memory usage: 3.9+ MB\n"
     ]
    },
    {
     "data": {
      "text/plain": "x                   0\nskin_temp           0\nbulk_temp        1517\nair_temp          310\nprecipitation       0\nwindspeed           0\nsolar_W             4\nrel_humidity      310\nair_pressure        0\ndatetime            0\ndtype: int64"
     },
     "execution_count": 8,
     "metadata": {},
     "output_type": "execute_result"
    }
   ],
   "source": [
    "BUC_0A = pd.read_csv(\"/Users/olbu/Documents/uni/FS_23/WASY/project_code/data/cleaned_data/230513/230513_BUC_0A.csv\")\n",
    "BUC_0A.info()\n",
    "BUC_0A.isna().sum()"
   ],
   "metadata": {
    "collapsed": false
   }
  },
  {
   "cell_type": "code",
   "execution_count": 9,
   "outputs": [
    {
     "name": "stdout",
     "output_type": "stream",
     "text": [
      "2016-09-08 13:00:00\n",
      "2022-11-25 00:00:00\n"
     ]
    }
   ],
   "source": [
    "print(min(BUC_0A.datetime))\n",
    "print(max(BUC_0A.datetime))"
   ],
   "metadata": {
    "collapsed": false
   }
  },
  {
   "cell_type": "code",
   "execution_count": 8,
   "outputs": [
    {
     "name": "stdout",
     "output_type": "stream",
     "text": [
      "<class 'pandas.core.frame.DataFrame'>\n",
      "RangeIndex: 48927 entries, 0 to 48926\n",
      "Data columns (total 11 columns):\n",
      " #   Column         Non-Null Count  Dtype  \n",
      "---  ------         --------------  -----  \n",
      " 0   x              48927 non-null  float64\n",
      " 1   skin_temp      48927 non-null  float64\n",
      " 2   bulk_temp      48927 non-null  float64\n",
      " 3   air_temp       48927 non-null  float64\n",
      " 4   precipitation  48927 non-null  float64\n",
      " 5   windspeed      48927 non-null  float64\n",
      " 6   solar_W        48927 non-null  float64\n",
      " 7   rel_humidity   48927 non-null  float64\n",
      " 8   air_pressure   48927 non-null  float64\n",
      " 9   datetime       48927 non-null  object \n",
      " 10  Quality        48927 non-null  int64  \n",
      "dtypes: float64(9), int64(1), object(1)\n",
      "memory usage: 4.1+ MB\n"
     ]
    },
    {
     "data": {
      "text/plain": "x                0\nskin_temp        0\nbulk_temp        0\nair_temp         0\nprecipitation    0\nwindspeed        0\nsolar_W          0\nrel_humidity     0\nair_pressure     0\ndatetime         0\nQuality          0\ndtype: int64"
     },
     "execution_count": 8,
     "metadata": {},
     "output_type": "execute_result"
    }
   ],
   "source": [
    "BUC_1A = pd.read_csv(\"/Users/olbu/Documents/uni/FS_23/WASY/project_code/data/cleaned_data/230513/230513_BUC_1A.csv\")\n",
    "BUC_1A.info()\n",
    "BUC_1A.isna().sum()"
   ],
   "metadata": {
    "collapsed": false
   }
  },
  {
   "cell_type": "code",
   "execution_count": 9,
   "outputs": [
    {
     "name": "stdout",
     "output_type": "stream",
     "text": [
      "<class 'pandas.core.frame.DataFrame'>\n",
      "RangeIndex: 17600 entries, 0 to 17599\n",
      "Data columns (total 10 columns):\n",
      " #   Column         Non-Null Count  Dtype  \n",
      "---  ------         --------------  -----  \n",
      " 0   x              17600 non-null  float64\n",
      " 1   skin_temp      17600 non-null  float64\n",
      " 2   bulk_temp      17600 non-null  float64\n",
      " 3   air_temp       17600 non-null  float64\n",
      " 4   precipitation  17600 non-null  float64\n",
      " 5   windspeed      17600 non-null  float64\n",
      " 6   solar_W        17600 non-null  float64\n",
      " 7   rel_humidity   17600 non-null  float64\n",
      " 8   air_pressure   17600 non-null  float64\n",
      " 9   datetime       17600 non-null  object \n",
      "dtypes: float64(9), object(1)\n",
      "memory usage: 1.3+ MB\n"
     ]
    },
    {
     "data": {
      "text/plain": "x                0\nskin_temp        0\nbulk_temp        0\nair_temp         0\nprecipitation    0\nwindspeed        0\nsolar_W          0\nrel_humidity     0\nair_pressure     0\ndatetime         0\ndtype: int64"
     },
     "execution_count": 9,
     "metadata": {},
     "output_type": "execute_result"
    }
   ],
   "source": [
    "BUC_1B = pd.read_csv(\"/Users/olbu/Documents/uni/FS_23/WASY/project_code/data/cleaned_data/230513/230513_BUC_1B.csv\")\n",
    "BUC_1B.info()\n",
    "BUC_1B.isna().sum()"
   ],
   "metadata": {
    "collapsed": false
   }
  },
  {
   "cell_type": "code",
   "execution_count": 10,
   "outputs": [
    {
     "name": "stdout",
     "output_type": "stream",
     "text": [
      "<class 'pandas.core.frame.DataFrame'>\n",
      "RangeIndex: 48639 entries, 0 to 48638\n",
      "Data columns (total 11 columns):\n",
      " #   Column         Non-Null Count  Dtype  \n",
      "---  ------         --------------  -----  \n",
      " 0   x              48639 non-null  float64\n",
      " 1   datetime       48639 non-null  object \n",
      " 2   bulk_temp      48639 non-null  float64\n",
      " 3   skin_temp      48639 non-null  float64\n",
      " 4   air_temp       48639 non-null  float64\n",
      " 5   precipitation  48639 non-null  float64\n",
      " 6   windspeed      48639 non-null  float64\n",
      " 7   solar_W        48639 non-null  float64\n",
      " 8   rel_humidity   48639 non-null  float64\n",
      " 9   air_pressure   48639 non-null  float64\n",
      " 10  Quality        48639 non-null  int64  \n",
      "dtypes: float64(9), int64(1), object(1)\n",
      "memory usage: 4.1+ MB\n"
     ]
    },
    {
     "data": {
      "text/plain": "x                0\ndatetime         0\nbulk_temp        0\nskin_temp        0\nair_temp         0\nprecipitation    0\nwindspeed        0\nsolar_W          0\nrel_humidity     0\nair_pressure     0\nQuality          0\ndtype: int64"
     },
     "execution_count": 10,
     "metadata": {},
     "output_type": "execute_result"
    }
   ],
   "source": [
    "BUC_2A = pd.read_csv(\"/Users/olbu/Documents/uni/FS_23/WASY/project_code/data/cleaned_data/230513/230513_BUC_2A.csv\")\n",
    "BUC_2A.info()\n",
    "BUC_2A.isna().sum()"
   ],
   "metadata": {
    "collapsed": false
   }
  },
  {
   "cell_type": "code",
   "execution_count": 5,
   "outputs": [
    {
     "name": "stdout",
     "output_type": "stream",
     "text": [
      "<class 'pandas.core.frame.DataFrame'>\n",
      "RangeIndex: 15958 entries, 0 to 15957\n",
      "Data columns (total 10 columns):\n",
      " #   Column         Non-Null Count  Dtype  \n",
      "---  ------         --------------  -----  \n",
      " 0   x              15958 non-null  float64\n",
      " 1   datetime       15958 non-null  object \n",
      " 2   bulk_temp      15958 non-null  float64\n",
      " 3   skin_temp      15958 non-null  float64\n",
      " 4   air_temp       15958 non-null  float64\n",
      " 5   precipitation  15958 non-null  float64\n",
      " 6   windspeed      15958 non-null  float64\n",
      " 7   solar_W        15958 non-null  float64\n",
      " 8   rel_humidity   15958 non-null  float64\n",
      " 9   air_pressure   15958 non-null  float64\n",
      "dtypes: float64(9), object(1)\n",
      "memory usage: 1.2+ MB\n"
     ]
    },
    {
     "data": {
      "text/plain": "x                0\ndatetime         0\nbulk_temp        0\nskin_temp        0\nair_temp         0\nprecipitation    0\nwindspeed        0\nsolar_W          0\nrel_humidity     0\nair_pressure     0\ndtype: int64"
     },
     "execution_count": 5,
     "metadata": {},
     "output_type": "execute_result"
    }
   ],
   "source": [
    "BUC_2D = pd.read_csv(\"/Users/olbu/Documents/uni/FS_23/WASY/project_code/data/cleaned_data/230513/230513_BUC_3B.csv\")\n",
    "BUC_2D.info()\n",
    "BUC_2D.isna().sum()"
   ],
   "metadata": {
    "collapsed": false
   }
  },
  {
   "cell_type": "code",
   "execution_count": null,
   "outputs": [],
   "source": [],
   "metadata": {
    "collapsed": false
   }
  },
  {
   "cell_type": "code",
   "execution_count": 3,
   "outputs": [
    {
     "name": "stdout",
     "output_type": "stream",
     "text": [
      "<class 'pandas.core.frame.DataFrame'>\n",
      "RangeIndex: 17670 entries, 0 to 17669\n",
      "Data columns (total 10 columns):\n",
      " #   Column             Non-Null Count  Dtype  \n",
      "---  ------             --------------  -----  \n",
      " 0   x                  17670 non-null  float64\n",
      " 1   skin_temp          17660 non-null  float64\n",
      " 2   bulk_temp          16931 non-null  float64\n",
      " 3   datetime           17670 non-null  object \n",
      " 4   air_temp           17669 non-null  float64\n",
      " 5   wind_speed         17669 non-null  float64\n",
      " 6   air_pressure       17669 non-null  float64\n",
      " 7   relative_humidity  17669 non-null  float64\n",
      " 8   solar_irradiance   17669 non-null  float64\n",
      " 9   meteo_timestamp    17670 non-null  float64\n",
      "dtypes: float64(9), object(1)\n",
      "memory usage: 1.3+ MB\n"
     ]
    },
    {
     "data": {
      "text/plain": "x                      0\nskin_temp             10\nbulk_temp            739\ndatetime               0\nair_temp               1\nwind_speed             1\nair_pressure           1\nrelative_humidity      1\nsolar_irradiance       1\nmeteo_timestamp        0\ndtype: int64"
     },
     "execution_count": 3,
     "metadata": {},
     "output_type": "execute_result"
    }
   ],
   "source": [
    "AEG_0A = pd.read_csv(\"/Users/olbu/Documents/uni/FS_23/WASY/project_code/data/cleaned_data/230513/230513_LakeAegeri_0A.csv\")\n",
    "AEG_0A.info()\n",
    "AEG_0A.isna().sum()"
   ],
   "metadata": {
    "collapsed": false
   }
  },
  {
   "cell_type": "code",
   "execution_count": 6,
   "outputs": [
    {
     "name": "stdout",
     "output_type": "stream",
     "text": [
      "<class 'pandas.core.frame.DataFrame'>\n",
      "RangeIndex: 14049 entries, 0 to 14048\n",
      "Data columns (total 10 columns):\n",
      " #   Column             Non-Null Count  Dtype  \n",
      "---  ------             --------------  -----  \n",
      " 0   x                  14049 non-null  float64\n",
      " 1   datetime           14049 non-null  object \n",
      " 2   bulk_temp          14049 non-null  float64\n",
      " 3   skin_temp          14049 non-null  float64\n",
      " 4   air_temp           14049 non-null  float64\n",
      " 5   wind_speed         14049 non-null  float64\n",
      " 6   air_pressure       14049 non-null  float64\n",
      " 7   relative_humidity  14049 non-null  float64\n",
      " 8   solar_irradiance   14049 non-null  float64\n",
      " 9   meteo_timestamp    14049 non-null  float64\n",
      "dtypes: float64(9), object(1)\n",
      "memory usage: 1.1+ MB\n"
     ]
    },
    {
     "data": {
      "text/plain": "x                    0\ndatetime             0\nbulk_temp            0\nskin_temp            0\nair_temp             0\nwind_speed           0\nair_pressure         0\nrelative_humidity    0\nsolar_irradiance     0\nmeteo_timestamp      0\ndtype: int64"
     },
     "execution_count": 6,
     "metadata": {},
     "output_type": "execute_result"
    }
   ],
   "source": [
    "AEG_2D = pd.read_csv(\"/Users/olbu/Documents/uni/FS_23/WASY/project_code/data/cleaned_data/230513/230513_LakeAegeri_3B.csv\")\n",
    "AEG_2D.info()\n",
    "AEG_2D.isna().sum()"
   ],
   "metadata": {
    "collapsed": false
   }
  },
  {
   "cell_type": "code",
   "execution_count": 10,
   "outputs": [
    {
     "name": "stdout",
     "output_type": "stream",
     "text": [
      "2022-11-11 12:00:28.166\n",
      "2023-03-16 15:50:12.596\n"
     ]
    }
   ],
   "source": [
    "print(min(AEG_0A.datetime))\n",
    "print(max(AEG_0A.datetime))"
   ],
   "metadata": {
    "collapsed": false
   }
  },
  {
   "cell_type": "code",
   "execution_count": null,
   "outputs": [],
   "source": [],
   "metadata": {
    "collapsed": false
   }
  }
 ],
 "metadata": {
  "kernelspec": {
   "display_name": "Python 3",
   "language": "python",
   "name": "python3"
  },
  "language_info": {
   "codemirror_mode": {
    "name": "ipython",
    "version": 2
   },
   "file_extension": ".py",
   "mimetype": "text/x-python",
   "name": "python",
   "nbconvert_exporter": "python",
   "pygments_lexer": "ipython2",
   "version": "2.7.6"
  }
 },
 "nbformat": 4,
 "nbformat_minor": 0
}

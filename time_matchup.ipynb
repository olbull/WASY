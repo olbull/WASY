{
 "cells": [
  {
   "cell_type": "code",
   "execution_count": 550,
   "metadata": {
    "collapsed": true
   },
   "outputs": [],
   "source": [
    "import os\n",
    "import pandas as pd\n",
    "import numpy as np\n",
    "from datetime import datetime\n",
    "import matplotlib.pyplot as plt"
   ]
  },
  {
   "cell_type": "code",
   "execution_count": 551,
   "outputs": [],
   "source": [
    "#precondition: col_names has an 'x' column\n",
    "def read_csv_raw_datalakes(prof_name, col_names):\n",
    "    df_raw = pd.read_csv(prof_name)\n",
    "    df_raw = df_raw[col_names]\n",
    "    df_raw.index = df_raw.x\n",
    "    df_raw = df_raw.sort_index()\n",
    "    return df_raw"
   ],
   "metadata": {
    "collapsed": false
   }
  },
  {
   "cell_type": "code",
   "execution_count": 552,
   "outputs": [],
   "source": [
    "def create_single_df(files_path, col_names):\n",
    "    allfiles = os.listdir(files_path)\n",
    "    filelist = [f for f in allfiles if f[-4:] == '.csv' and f[0] != '~']\n",
    "    df_list = []\n",
    "    for i in range(len(filelist)):\n",
    "        df_list.append(read_csv_raw_datalakes(filelist[i], col_names))\n",
    "    single_df = pd.concat(df_list)\n",
    "    single_df.sort_index()\n",
    "    return single_df"
   ],
   "metadata": {
    "collapsed": false
   }
  },
  {
   "cell_type": "code",
   "execution_count": 553,
   "outputs": [],
   "source": [
    "#precondition: index of df is timestamp\n",
    "def add_datetime_to_df(df, name):\n",
    "    variable_name = name +'_datetime'\n",
    "    if name == 'skin':\n",
    "        df[variable_name] = np.array([datetime.fromtimestamp(ts) for ts in df.index])\n",
    "    if name == 'meteo':\n",
    "        df[variable_name] = np.array([datetime.fromtimestamp(ts) for ts in df['meteo_timestamp']])\n",
    "\n",
    "    return df"
   ],
   "metadata": {
    "collapsed": false
   }
  },
  {
   "cell_type": "code",
   "execution_count": 554,
   "outputs": [],
   "source": [
    "def cut_dataframes(df1, df2):\n",
    "    timestamp_min = np.max([np.min(df1.index), np.min(df2.index)])-2*3600\n",
    "    timestamp_max = np.min([np.max(df1.index),np.max(df2.index)])+2*3600\n",
    "    df1 = df1[(df1.index > timestamp_min) & (df1.index < timestamp_max)]\n",
    "    df2 = df2[(df2.index > timestamp_min) & (df2.index < timestamp_max)]\n",
    "    return df1, df2"
   ],
   "metadata": {
    "collapsed": false
   }
  },
  {
   "cell_type": "code",
   "execution_count": 555,
   "outputs": [],
   "source": [
    "def matchup(df1, df2, df2_cols, df2_new_cols):\n",
    "    df1.sort_index()\n",
    "    df2.sort_index()\n",
    "\n",
    "    for i in range(len(df2_cols)):\n",
    "        df1[df2_new_cols[i]] = np.nan\n",
    "\n",
    "    df1['meteo_timestamp'] = np.nan\n",
    "\n",
    "    for i in range(len(df1)):#len(df1)\n",
    "        ind_matchup = np.where(abs(df1.index[i]-df2.index)==min(abs(df1.index[i]-df2.index)))[0][0]\n",
    "\n",
    "        for j in range(len(df2_cols)):\n",
    "            df1.loc[df1.index[i], df2_new_cols[j]] = df2.loc[df2.index[ind_matchup-6:ind_matchup+6], df2_cols[j]].mean()\n",
    "\n",
    "        df1.loc[df1.index[i], 'meteo_timestamp'] = df2.index[ind_matchup]\n",
    "    return df1"
   ],
   "metadata": {
    "collapsed": false
   }
  },
  {
   "cell_type": "code",
   "execution_count": 556,
   "outputs": [],
   "source": [
    "geneva_skin_path = '/Users/olbu/Documents/uni/FS_23/WASY/project_code/data/Geneva/geneva_lex_skin_220323/'\n",
    "geneva_meteo_path = '/Users/olbu/Documents/uni/FS_23/WASY/project_code/data/Geneva/geneva_lex_meteo_220323/'\n",
    "\n",
    "aegeri_skin_path = '/Users/olbu/Documents/uni/FS_23/WASY/project_code/data/Aegeri/aegeri_skin_220323/'\n",
    "aegeri_meteo_path = '/Users/olbu/Documents/uni/FS_23/WASY/project_code/data/Aegeri/aegeri_meteo_220323/'"
   ],
   "metadata": {
    "collapsed": false
   }
  },
  {
   "cell_type": "code",
   "execution_count": 557,
   "outputs": [],
   "source": [
    "geneva_cols_skin = ['x', 'y', 'y1', 'y4']\n",
    "geneva_cols_meteo_1 = ['x', 'y', 'y1', 'y2', 'y3', 'y5', 'y6']\n",
    "geneva_cols_meteo_2 = ['y', 'y1', 'y2', 'y3', 'y5', 'y6']\n",
    "geneva_cols_meteo_names = ['air_temp', 'rel_humidity', 'sol_irr', 'wind_speed', 'rainfall', 'air_pressure']"
   ],
   "metadata": {
    "collapsed": false
   }
  },
  {
   "cell_type": "code",
   "execution_count": 558,
   "outputs": [
    {
     "data": {
      "text/plain": "                     x      y  y1  y4\nx                                    \n1652652000  1652652000  16.07 NaN   1\n1652652300  1652652300  16.22 NaN   1\n1652652600  1652652600  16.12 NaN   1\n1652652900  1652652900  16.12 NaN   1\n1652653200  1652653200  15.48 NaN   1\n...                ...    ...  ..  ..\n1657489200  1657489200  20.19 NaN   1\n1657489500  1657489500  20.05 NaN   1\n1657489800  1657489800  19.97 NaN   1\n1657490100  1657490100  19.92 NaN   1\n1657490400  1657490400  19.96 NaN   1\n\n[50672 rows x 4 columns]",
      "text/html": "<div>\n<style scoped>\n    .dataframe tbody tr th:only-of-type {\n        vertical-align: middle;\n    }\n\n    .dataframe tbody tr th {\n        vertical-align: top;\n    }\n\n    .dataframe thead th {\n        text-align: right;\n    }\n</style>\n<table border=\"1\" class=\"dataframe\">\n  <thead>\n    <tr style=\"text-align: right;\">\n      <th></th>\n      <th>x</th>\n      <th>y</th>\n      <th>y1</th>\n      <th>y4</th>\n    </tr>\n    <tr>\n      <th>x</th>\n      <th></th>\n      <th></th>\n      <th></th>\n      <th></th>\n    </tr>\n  </thead>\n  <tbody>\n    <tr>\n      <th>1652652000</th>\n      <td>1652652000</td>\n      <td>16.07</td>\n      <td>NaN</td>\n      <td>1</td>\n    </tr>\n    <tr>\n      <th>1652652300</th>\n      <td>1652652300</td>\n      <td>16.22</td>\n      <td>NaN</td>\n      <td>1</td>\n    </tr>\n    <tr>\n      <th>1652652600</th>\n      <td>1652652600</td>\n      <td>16.12</td>\n      <td>NaN</td>\n      <td>1</td>\n    </tr>\n    <tr>\n      <th>1652652900</th>\n      <td>1652652900</td>\n      <td>16.12</td>\n      <td>NaN</td>\n      <td>1</td>\n    </tr>\n    <tr>\n      <th>1652653200</th>\n      <td>1652653200</td>\n      <td>15.48</td>\n      <td>NaN</td>\n      <td>1</td>\n    </tr>\n    <tr>\n      <th>...</th>\n      <td>...</td>\n      <td>...</td>\n      <td>...</td>\n      <td>...</td>\n    </tr>\n    <tr>\n      <th>1657489200</th>\n      <td>1657489200</td>\n      <td>20.19</td>\n      <td>NaN</td>\n      <td>1</td>\n    </tr>\n    <tr>\n      <th>1657489500</th>\n      <td>1657489500</td>\n      <td>20.05</td>\n      <td>NaN</td>\n      <td>1</td>\n    </tr>\n    <tr>\n      <th>1657489800</th>\n      <td>1657489800</td>\n      <td>19.97</td>\n      <td>NaN</td>\n      <td>1</td>\n    </tr>\n    <tr>\n      <th>1657490100</th>\n      <td>1657490100</td>\n      <td>19.92</td>\n      <td>NaN</td>\n      <td>1</td>\n    </tr>\n    <tr>\n      <th>1657490400</th>\n      <td>1657490400</td>\n      <td>19.96</td>\n      <td>NaN</td>\n      <td>1</td>\n    </tr>\n  </tbody>\n</table>\n<p>50672 rows × 4 columns</p>\n</div>"
     },
     "metadata": {},
     "output_type": "display_data"
    }
   ],
   "source": [
    "os.chdir(geneva_skin_path)\n",
    "path = os.getcwd()\n",
    "geneva_skin_files = os.listdir(path)\n",
    "geneva_skin_df = create_single_df(path, geneva_cols_skin)\n",
    "display(geneva_skin_df)"
   ],
   "metadata": {
    "collapsed": false
   }
  },
  {
   "cell_type": "code",
   "execution_count": 559,
   "outputs": [
    {
     "data": {
      "text/plain": "                     x      y     y1     y2     y3   y5     y6\nx                                                             \n1603670400  1603670400  13.68  77.41  0.000  1.545  0.0  962.0\n1603671000  1603671000  13.75  77.00  0.000  0.141  0.0  962.0\n1603671600  1603671600  13.76  83.50  0.000  0.862  0.0  962.0\n1603672200  1603672200  13.58  74.75  0.000  0.899  0.0  962.0\n1603672800  1603672800  13.90  77.20  0.000  1.409  0.0  962.0\n...                ...    ...    ...    ...    ...  ...    ...\n1630883400  1630883400  19.16  71.54  0.001  1.185  0.0  977.0\n1630884000  1630884000  19.10  71.72  0.001  1.354  0.0  977.0\n1630884600  1630884600  18.88  72.52  0.001  1.386  0.0  978.0\n1630885200  1630885200  18.87  75.11  0.001  0.942  0.0  978.0\n1630885800  1630885800  18.81  74.14  0.001  0.922  0.0  978.0\n\n[233268 rows x 7 columns]",
      "text/html": "<div>\n<style scoped>\n    .dataframe tbody tr th:only-of-type {\n        vertical-align: middle;\n    }\n\n    .dataframe tbody tr th {\n        vertical-align: top;\n    }\n\n    .dataframe thead th {\n        text-align: right;\n    }\n</style>\n<table border=\"1\" class=\"dataframe\">\n  <thead>\n    <tr style=\"text-align: right;\">\n      <th></th>\n      <th>x</th>\n      <th>y</th>\n      <th>y1</th>\n      <th>y2</th>\n      <th>y3</th>\n      <th>y5</th>\n      <th>y6</th>\n    </tr>\n    <tr>\n      <th>x</th>\n      <th></th>\n      <th></th>\n      <th></th>\n      <th></th>\n      <th></th>\n      <th></th>\n      <th></th>\n    </tr>\n  </thead>\n  <tbody>\n    <tr>\n      <th>1603670400</th>\n      <td>1603670400</td>\n      <td>13.68</td>\n      <td>77.41</td>\n      <td>0.000</td>\n      <td>1.545</td>\n      <td>0.0</td>\n      <td>962.0</td>\n    </tr>\n    <tr>\n      <th>1603671000</th>\n      <td>1603671000</td>\n      <td>13.75</td>\n      <td>77.00</td>\n      <td>0.000</td>\n      <td>0.141</td>\n      <td>0.0</td>\n      <td>962.0</td>\n    </tr>\n    <tr>\n      <th>1603671600</th>\n      <td>1603671600</td>\n      <td>13.76</td>\n      <td>83.50</td>\n      <td>0.000</td>\n      <td>0.862</td>\n      <td>0.0</td>\n      <td>962.0</td>\n    </tr>\n    <tr>\n      <th>1603672200</th>\n      <td>1603672200</td>\n      <td>13.58</td>\n      <td>74.75</td>\n      <td>0.000</td>\n      <td>0.899</td>\n      <td>0.0</td>\n      <td>962.0</td>\n    </tr>\n    <tr>\n      <th>1603672800</th>\n      <td>1603672800</td>\n      <td>13.90</td>\n      <td>77.20</td>\n      <td>0.000</td>\n      <td>1.409</td>\n      <td>0.0</td>\n      <td>962.0</td>\n    </tr>\n    <tr>\n      <th>...</th>\n      <td>...</td>\n      <td>...</td>\n      <td>...</td>\n      <td>...</td>\n      <td>...</td>\n      <td>...</td>\n      <td>...</td>\n    </tr>\n    <tr>\n      <th>1630883400</th>\n      <td>1630883400</td>\n      <td>19.16</td>\n      <td>71.54</td>\n      <td>0.001</td>\n      <td>1.185</td>\n      <td>0.0</td>\n      <td>977.0</td>\n    </tr>\n    <tr>\n      <th>1630884000</th>\n      <td>1630884000</td>\n      <td>19.10</td>\n      <td>71.72</td>\n      <td>0.001</td>\n      <td>1.354</td>\n      <td>0.0</td>\n      <td>977.0</td>\n    </tr>\n    <tr>\n      <th>1630884600</th>\n      <td>1630884600</td>\n      <td>18.88</td>\n      <td>72.52</td>\n      <td>0.001</td>\n      <td>1.386</td>\n      <td>0.0</td>\n      <td>978.0</td>\n    </tr>\n    <tr>\n      <th>1630885200</th>\n      <td>1630885200</td>\n      <td>18.87</td>\n      <td>75.11</td>\n      <td>0.001</td>\n      <td>0.942</td>\n      <td>0.0</td>\n      <td>978.0</td>\n    </tr>\n    <tr>\n      <th>1630885800</th>\n      <td>1630885800</td>\n      <td>18.81</td>\n      <td>74.14</td>\n      <td>0.001</td>\n      <td>0.922</td>\n      <td>0.0</td>\n      <td>978.0</td>\n    </tr>\n  </tbody>\n</table>\n<p>233268 rows × 7 columns</p>\n</div>"
     },
     "metadata": {},
     "output_type": "display_data"
    }
   ],
   "source": [
    "os.chdir(geneva_meteo_path)\n",
    "path = os.getcwd()\n",
    "geneva_meteo_files = os.listdir(path)\n",
    "geneva_meteo_df = create_single_df(path, geneva_cols_meteo_1)\n",
    "display(geneva_meteo_df)"
   ],
   "metadata": {
    "collapsed": false
   }
  },
  {
   "cell_type": "code",
   "execution_count": 560,
   "outputs": [],
   "source": [
    "aegeri_cols_skin = ['x', 'y', 'y1']\n",
    "aegeri_cols_meteo_1 = ['x', 'y', 'y1', 'y5', 'y6', 'y7']\n",
    "aegeri_cols_meteo_2 = ['y', 'y1', 'y5', 'y6', 'y7']\n",
    "aegeri_cols_meteo_names = ['air_temp', 'wind_speed', 'air_pressure', 'rel_humidity', 'sol_irr']"
   ],
   "metadata": {
    "collapsed": false
   }
  },
  {
   "cell_type": "code",
   "execution_count": 561,
   "outputs": [
    {
     "data": {
      "text/plain": "                         x     y      y1\nx                                       \n1.673827e+09  1.673827e+09  3.02  5.4126\n1.673828e+09  1.673828e+09  2.31  5.4280\n1.673828e+09  1.673828e+09  1.42  5.3449\n1.673829e+09  1.673829e+09  2.23  5.3823\n1.673830e+09  1.673830e+09  1.30  5.3983\n...                    ...   ...     ...\n1.670797e+09  1.670797e+09 -0.66  7.4359\n1.670797e+09  1.670797e+09 -0.19  7.4126\n1.670798e+09  1.670798e+09  0.34  7.4628\n1.670798e+09  1.670798e+09 -0.73  7.4618\n1.670799e+09  1.670799e+09 -0.48  7.4487\n\n[18522 rows x 3 columns]",
      "text/html": "<div>\n<style scoped>\n    .dataframe tbody tr th:only-of-type {\n        vertical-align: middle;\n    }\n\n    .dataframe tbody tr th {\n        vertical-align: top;\n    }\n\n    .dataframe thead th {\n        text-align: right;\n    }\n</style>\n<table border=\"1\" class=\"dataframe\">\n  <thead>\n    <tr style=\"text-align: right;\">\n      <th></th>\n      <th>x</th>\n      <th>y</th>\n      <th>y1</th>\n    </tr>\n    <tr>\n      <th>x</th>\n      <th></th>\n      <th></th>\n      <th></th>\n    </tr>\n  </thead>\n  <tbody>\n    <tr>\n      <th>1.673827e+09</th>\n      <td>1.673827e+09</td>\n      <td>3.02</td>\n      <td>5.4126</td>\n    </tr>\n    <tr>\n      <th>1.673828e+09</th>\n      <td>1.673828e+09</td>\n      <td>2.31</td>\n      <td>5.4280</td>\n    </tr>\n    <tr>\n      <th>1.673828e+09</th>\n      <td>1.673828e+09</td>\n      <td>1.42</td>\n      <td>5.3449</td>\n    </tr>\n    <tr>\n      <th>1.673829e+09</th>\n      <td>1.673829e+09</td>\n      <td>2.23</td>\n      <td>5.3823</td>\n    </tr>\n    <tr>\n      <th>1.673830e+09</th>\n      <td>1.673830e+09</td>\n      <td>1.30</td>\n      <td>5.3983</td>\n    </tr>\n    <tr>\n      <th>...</th>\n      <td>...</td>\n      <td>...</td>\n      <td>...</td>\n    </tr>\n    <tr>\n      <th>1.670797e+09</th>\n      <td>1.670797e+09</td>\n      <td>-0.66</td>\n      <td>7.4359</td>\n    </tr>\n    <tr>\n      <th>1.670797e+09</th>\n      <td>1.670797e+09</td>\n      <td>-0.19</td>\n      <td>7.4126</td>\n    </tr>\n    <tr>\n      <th>1.670798e+09</th>\n      <td>1.670798e+09</td>\n      <td>0.34</td>\n      <td>7.4628</td>\n    </tr>\n    <tr>\n      <th>1.670798e+09</th>\n      <td>1.670798e+09</td>\n      <td>-0.73</td>\n      <td>7.4618</td>\n    </tr>\n    <tr>\n      <th>1.670799e+09</th>\n      <td>1.670799e+09</td>\n      <td>-0.48</td>\n      <td>7.4487</td>\n    </tr>\n  </tbody>\n</table>\n<p>18522 rows × 3 columns</p>\n</div>"
     },
     "metadata": {},
     "output_type": "display_data"
    }
   ],
   "source": [
    "os.chdir(aegeri_skin_path)\n",
    "path = os.getcwd()\n",
    "aegeri_skin_files = os.listdir(path)\n",
    "aegeri_skin_df = create_single_df(path, aegeri_cols_skin)\n",
    "display(aegeri_skin_df)"
   ],
   "metadata": {
    "collapsed": false
   }
  },
  {
   "cell_type": "code",
   "execution_count": 562,
   "outputs": [
    {
     "data": {
      "text/plain": "                         x         y        y1          y5         y6    y7\nx                                                                          \n1.674428e+09  1.674428e+09 -1.896333  3.196500  939.405000  82.516667  0.00\n1.674429e+09  1.674429e+09 -1.952500  3.692000  939.405000  80.483333  0.00\n1.674429e+09  1.674429e+09 -2.059500  2.652500  939.340000  79.383333  0.00\n1.674429e+09  1.674429e+09 -1.995500  2.910333  939.363333  81.000000  0.00\n1.674429e+09  1.674429e+09 -1.950167  3.327167  939.375000  81.583333  0.00\n...                    ...       ...       ...         ...        ...   ...\n1.676847e+09  1.676847e+09  6.093167  0.578833  944.075000  86.400000  0.00\n1.676847e+09  1.676847e+09  6.142167  0.586500  944.088333  86.000000  0.00\n1.676847e+09  1.676847e+09  6.181667  0.660000  944.095000  86.000000  0.00\n1.676847e+09  1.676847e+09  6.189000  0.862833  944.091667  86.283333  0.05\n1.676848e+09  1.676848e+09  6.146102  1.013000  944.072881  86.728814  0.00\n\n[186347 rows x 6 columns]",
      "text/html": "<div>\n<style scoped>\n    .dataframe tbody tr th:only-of-type {\n        vertical-align: middle;\n    }\n\n    .dataframe tbody tr th {\n        vertical-align: top;\n    }\n\n    .dataframe thead th {\n        text-align: right;\n    }\n</style>\n<table border=\"1\" class=\"dataframe\">\n  <thead>\n    <tr style=\"text-align: right;\">\n      <th></th>\n      <th>x</th>\n      <th>y</th>\n      <th>y1</th>\n      <th>y5</th>\n      <th>y6</th>\n      <th>y7</th>\n    </tr>\n    <tr>\n      <th>x</th>\n      <th></th>\n      <th></th>\n      <th></th>\n      <th></th>\n      <th></th>\n      <th></th>\n    </tr>\n  </thead>\n  <tbody>\n    <tr>\n      <th>1.674428e+09</th>\n      <td>1.674428e+09</td>\n      <td>-1.896333</td>\n      <td>3.196500</td>\n      <td>939.405000</td>\n      <td>82.516667</td>\n      <td>0.00</td>\n    </tr>\n    <tr>\n      <th>1.674429e+09</th>\n      <td>1.674429e+09</td>\n      <td>-1.952500</td>\n      <td>3.692000</td>\n      <td>939.405000</td>\n      <td>80.483333</td>\n      <td>0.00</td>\n    </tr>\n    <tr>\n      <th>1.674429e+09</th>\n      <td>1.674429e+09</td>\n      <td>-2.059500</td>\n      <td>2.652500</td>\n      <td>939.340000</td>\n      <td>79.383333</td>\n      <td>0.00</td>\n    </tr>\n    <tr>\n      <th>1.674429e+09</th>\n      <td>1.674429e+09</td>\n      <td>-1.995500</td>\n      <td>2.910333</td>\n      <td>939.363333</td>\n      <td>81.000000</td>\n      <td>0.00</td>\n    </tr>\n    <tr>\n      <th>1.674429e+09</th>\n      <td>1.674429e+09</td>\n      <td>-1.950167</td>\n      <td>3.327167</td>\n      <td>939.375000</td>\n      <td>81.583333</td>\n      <td>0.00</td>\n    </tr>\n    <tr>\n      <th>...</th>\n      <td>...</td>\n      <td>...</td>\n      <td>...</td>\n      <td>...</td>\n      <td>...</td>\n      <td>...</td>\n    </tr>\n    <tr>\n      <th>1.676847e+09</th>\n      <td>1.676847e+09</td>\n      <td>6.093167</td>\n      <td>0.578833</td>\n      <td>944.075000</td>\n      <td>86.400000</td>\n      <td>0.00</td>\n    </tr>\n    <tr>\n      <th>1.676847e+09</th>\n      <td>1.676847e+09</td>\n      <td>6.142167</td>\n      <td>0.586500</td>\n      <td>944.088333</td>\n      <td>86.000000</td>\n      <td>0.00</td>\n    </tr>\n    <tr>\n      <th>1.676847e+09</th>\n      <td>1.676847e+09</td>\n      <td>6.181667</td>\n      <td>0.660000</td>\n      <td>944.095000</td>\n      <td>86.000000</td>\n      <td>0.00</td>\n    </tr>\n    <tr>\n      <th>1.676847e+09</th>\n      <td>1.676847e+09</td>\n      <td>6.189000</td>\n      <td>0.862833</td>\n      <td>944.091667</td>\n      <td>86.283333</td>\n      <td>0.05</td>\n    </tr>\n    <tr>\n      <th>1.676848e+09</th>\n      <td>1.676848e+09</td>\n      <td>6.146102</td>\n      <td>1.013000</td>\n      <td>944.072881</td>\n      <td>86.728814</td>\n      <td>0.00</td>\n    </tr>\n  </tbody>\n</table>\n<p>186347 rows × 6 columns</p>\n</div>"
     },
     "metadata": {},
     "output_type": "display_data"
    }
   ],
   "source": [
    "os.chdir(aegeri_meteo_path)\n",
    "path = os.getcwd()\n",
    "aegeri_meteo_files = os.listdir(path)\n",
    "aegeri_meteo_df = create_single_df(path, aegeri_cols_meteo_1)\n",
    "display(aegeri_meteo_df)"
   ],
   "metadata": {
    "collapsed": false
   }
  },
  {
   "cell_type": "code",
   "execution_count": 563,
   "outputs": [
    {
     "data": {
      "text/plain": "                     x      y  y1  y4\nx                                    \n1652652000  1652652000  16.07 NaN   1\n1652652300  1652652300  16.22 NaN   1\n1652652600  1652652600  16.12 NaN   1\n1652652900  1652652900  16.12 NaN   1\n1652653200  1652653200  15.48 NaN   1\n...                ...    ...  ..  ..\n1657489200  1657489200  20.19 NaN   1\n1657489500  1657489500  20.05 NaN   1\n1657489800  1657489800  19.97 NaN   1\n1657490100  1657490100  19.92 NaN   1\n1657490400  1657490400  19.96 NaN   1\n\n[50672 rows x 4 columns]",
      "text/html": "<div>\n<style scoped>\n    .dataframe tbody tr th:only-of-type {\n        vertical-align: middle;\n    }\n\n    .dataframe tbody tr th {\n        vertical-align: top;\n    }\n\n    .dataframe thead th {\n        text-align: right;\n    }\n</style>\n<table border=\"1\" class=\"dataframe\">\n  <thead>\n    <tr style=\"text-align: right;\">\n      <th></th>\n      <th>x</th>\n      <th>y</th>\n      <th>y1</th>\n      <th>y4</th>\n    </tr>\n    <tr>\n      <th>x</th>\n      <th></th>\n      <th></th>\n      <th></th>\n      <th></th>\n    </tr>\n  </thead>\n  <tbody>\n    <tr>\n      <th>1652652000</th>\n      <td>1652652000</td>\n      <td>16.07</td>\n      <td>NaN</td>\n      <td>1</td>\n    </tr>\n    <tr>\n      <th>1652652300</th>\n      <td>1652652300</td>\n      <td>16.22</td>\n      <td>NaN</td>\n      <td>1</td>\n    </tr>\n    <tr>\n      <th>1652652600</th>\n      <td>1652652600</td>\n      <td>16.12</td>\n      <td>NaN</td>\n      <td>1</td>\n    </tr>\n    <tr>\n      <th>1652652900</th>\n      <td>1652652900</td>\n      <td>16.12</td>\n      <td>NaN</td>\n      <td>1</td>\n    </tr>\n    <tr>\n      <th>1652653200</th>\n      <td>1652653200</td>\n      <td>15.48</td>\n      <td>NaN</td>\n      <td>1</td>\n    </tr>\n    <tr>\n      <th>...</th>\n      <td>...</td>\n      <td>...</td>\n      <td>...</td>\n      <td>...</td>\n    </tr>\n    <tr>\n      <th>1657489200</th>\n      <td>1657489200</td>\n      <td>20.19</td>\n      <td>NaN</td>\n      <td>1</td>\n    </tr>\n    <tr>\n      <th>1657489500</th>\n      <td>1657489500</td>\n      <td>20.05</td>\n      <td>NaN</td>\n      <td>1</td>\n    </tr>\n    <tr>\n      <th>1657489800</th>\n      <td>1657489800</td>\n      <td>19.97</td>\n      <td>NaN</td>\n      <td>1</td>\n    </tr>\n    <tr>\n      <th>1657490100</th>\n      <td>1657490100</td>\n      <td>19.92</td>\n      <td>NaN</td>\n      <td>1</td>\n    </tr>\n    <tr>\n      <th>1657490400</th>\n      <td>1657490400</td>\n      <td>19.96</td>\n      <td>NaN</td>\n      <td>1</td>\n    </tr>\n  </tbody>\n</table>\n<p>50672 rows × 4 columns</p>\n</div>"
     },
     "execution_count": 563,
     "metadata": {},
     "output_type": "execute_result"
    }
   ],
   "source": [
    "aegeri_skin_df.index = aegeri_skin_df.index.astype(int)\n",
    "\n",
    "geneva_skin_df, geneva_meteo_df = cut_dataframes(geneva_skin_df, geneva_meteo_df)\n",
    "aegeri_skin_df, aegeri_meteo_df = cut_dataframes(aegeri_skin_df, aegeri_meteo_df)\n",
    "geneva_skin_df"
   ],
   "metadata": {
    "collapsed": false
   }
  },
  {
   "cell_type": "code",
   "execution_count": 564,
   "outputs": [
    {
     "ename": "KeyboardInterrupt",
     "evalue": "",
     "output_type": "error",
     "traceback": [
      "\u001B[0;31m---------------------------------------------------------------------------\u001B[0m",
      "\u001B[0;31mKeyboardInterrupt\u001B[0m                         Traceback (most recent call last)",
      "Input \u001B[0;32mIn [564]\u001B[0m, in \u001B[0;36m<cell line: 1>\u001B[0;34m()\u001B[0m\n\u001B[0;32m----> 1\u001B[0m geneva_skin_meteo_matchup \u001B[38;5;241m=\u001B[39m \u001B[43mmatchup\u001B[49m\u001B[43m(\u001B[49m\u001B[43mgeneva_skin_df\u001B[49m\u001B[43m,\u001B[49m\u001B[43m \u001B[49m\u001B[43mgeneva_meteo_df\u001B[49m\u001B[43m,\u001B[49m\u001B[43m \u001B[49m\u001B[43mgeneva_cols_meteo_2\u001B[49m\u001B[43m,\u001B[49m\u001B[43m \u001B[49m\u001B[43mgeneva_cols_meteo_names\u001B[49m\u001B[43m)\u001B[49m\n\u001B[1;32m      2\u001B[0m display(geneva_skin_meteo_matchup)\n",
      "Input \u001B[0;32mIn [555]\u001B[0m, in \u001B[0;36mmatchup\u001B[0;34m(df1, df2, df2_cols, df2_new_cols)\u001B[0m\n\u001B[1;32m     11\u001B[0m     ind_matchup \u001B[38;5;241m=\u001B[39m np\u001B[38;5;241m.\u001B[39mwhere(\u001B[38;5;28mabs\u001B[39m(df1\u001B[38;5;241m.\u001B[39mindex[i]\u001B[38;5;241m-\u001B[39mdf2\u001B[38;5;241m.\u001B[39mindex)\u001B[38;5;241m==\u001B[39m\u001B[38;5;28mmin\u001B[39m(\u001B[38;5;28mabs\u001B[39m(df1\u001B[38;5;241m.\u001B[39mindex[i]\u001B[38;5;241m-\u001B[39mdf2\u001B[38;5;241m.\u001B[39mindex)))[\u001B[38;5;241m0\u001B[39m][\u001B[38;5;241m0\u001B[39m]\n\u001B[1;32m     13\u001B[0m     \u001B[38;5;28;01mfor\u001B[39;00m j \u001B[38;5;129;01min\u001B[39;00m \u001B[38;5;28mrange\u001B[39m(\u001B[38;5;28mlen\u001B[39m(df2_cols)):\n\u001B[0;32m---> 14\u001B[0m         df1\u001B[38;5;241m.\u001B[39mloc[df1\u001B[38;5;241m.\u001B[39mindex[i], df2_new_cols[j]] \u001B[38;5;241m=\u001B[39m \u001B[43mdf2\u001B[49m\u001B[38;5;241;43m.\u001B[39;49m\u001B[43mloc\u001B[49m\u001B[43m[\u001B[49m\u001B[43mdf2\u001B[49m\u001B[38;5;241;43m.\u001B[39;49m\u001B[43mindex\u001B[49m\u001B[43m[\u001B[49m\u001B[43mind_matchup\u001B[49m\u001B[38;5;241;43m-\u001B[39;49m\u001B[38;5;241;43m6\u001B[39;49m\u001B[43m:\u001B[49m\u001B[43mind_matchup\u001B[49m\u001B[38;5;241;43m+\u001B[39;49m\u001B[38;5;241;43m6\u001B[39;49m\u001B[43m]\u001B[49m\u001B[43m,\u001B[49m\u001B[43m \u001B[49m\u001B[43mdf2_cols\u001B[49m\u001B[43m[\u001B[49m\u001B[43mj\u001B[49m\u001B[43m]\u001B[49m\u001B[43m]\u001B[49m\u001B[38;5;241m.\u001B[39mmean()\n\u001B[1;32m     16\u001B[0m     df1\u001B[38;5;241m.\u001B[39mloc[df1\u001B[38;5;241m.\u001B[39mindex[i], \u001B[38;5;124m'\u001B[39m\u001B[38;5;124mmeteo_timestamp\u001B[39m\u001B[38;5;124m'\u001B[39m] \u001B[38;5;241m=\u001B[39m df2\u001B[38;5;241m.\u001B[39mindex[ind_matchup]\n\u001B[1;32m     17\u001B[0m \u001B[38;5;28;01mreturn\u001B[39;00m df1\n",
      "File \u001B[0;32m~/opt/anaconda3/lib/python3.9/site-packages/pandas/core/indexing.py:961\u001B[0m, in \u001B[0;36m_LocationIndexer.__getitem__\u001B[0;34m(self, key)\u001B[0m\n\u001B[1;32m    959\u001B[0m     \u001B[38;5;28;01mif\u001B[39;00m \u001B[38;5;28mself\u001B[39m\u001B[38;5;241m.\u001B[39m_is_scalar_access(key):\n\u001B[1;32m    960\u001B[0m         \u001B[38;5;28;01mreturn\u001B[39;00m \u001B[38;5;28mself\u001B[39m\u001B[38;5;241m.\u001B[39mobj\u001B[38;5;241m.\u001B[39m_get_value(\u001B[38;5;241m*\u001B[39mkey, takeable\u001B[38;5;241m=\u001B[39m\u001B[38;5;28mself\u001B[39m\u001B[38;5;241m.\u001B[39m_takeable)\n\u001B[0;32m--> 961\u001B[0m     \u001B[38;5;28;01mreturn\u001B[39;00m \u001B[38;5;28;43mself\u001B[39;49m\u001B[38;5;241;43m.\u001B[39;49m\u001B[43m_getitem_tuple\u001B[49m\u001B[43m(\u001B[49m\u001B[43mkey\u001B[49m\u001B[43m)\u001B[49m\n\u001B[1;32m    962\u001B[0m \u001B[38;5;28;01melse\u001B[39;00m:\n\u001B[1;32m    963\u001B[0m     \u001B[38;5;66;03m# we by definition only have the 0th axis\u001B[39;00m\n\u001B[1;32m    964\u001B[0m     axis \u001B[38;5;241m=\u001B[39m \u001B[38;5;28mself\u001B[39m\u001B[38;5;241m.\u001B[39maxis \u001B[38;5;129;01mor\u001B[39;00m \u001B[38;5;241m0\u001B[39m\n",
      "File \u001B[0;32m~/opt/anaconda3/lib/python3.9/site-packages/pandas/core/indexing.py:1140\u001B[0m, in \u001B[0;36m_LocIndexer._getitem_tuple\u001B[0;34m(self, tup)\u001B[0m\n\u001B[1;32m   1138\u001B[0m \u001B[38;5;28;01mwith\u001B[39;00m suppress(IndexingError):\n\u001B[1;32m   1139\u001B[0m     tup \u001B[38;5;241m=\u001B[39m \u001B[38;5;28mself\u001B[39m\u001B[38;5;241m.\u001B[39m_expand_ellipsis(tup)\n\u001B[0;32m-> 1140\u001B[0m     \u001B[38;5;28;01mreturn\u001B[39;00m \u001B[38;5;28;43mself\u001B[39;49m\u001B[38;5;241;43m.\u001B[39;49m\u001B[43m_getitem_lowerdim\u001B[49m\u001B[43m(\u001B[49m\u001B[43mtup\u001B[49m\u001B[43m)\u001B[49m\n\u001B[1;32m   1142\u001B[0m \u001B[38;5;66;03m# no multi-index, so validate all of the indexers\u001B[39;00m\n\u001B[1;32m   1143\u001B[0m tup \u001B[38;5;241m=\u001B[39m \u001B[38;5;28mself\u001B[39m\u001B[38;5;241m.\u001B[39m_validate_tuple_indexer(tup)\n",
      "File \u001B[0;32m~/opt/anaconda3/lib/python3.9/site-packages/pandas/core/indexing.py:891\u001B[0m, in \u001B[0;36m_LocationIndexer._getitem_lowerdim\u001B[0;34m(self, tup)\u001B[0m\n\u001B[1;32m    889\u001B[0m             \u001B[38;5;28;01mreturn\u001B[39;00m section\n\u001B[1;32m    890\u001B[0m         \u001B[38;5;66;03m# This is an elided recursive call to iloc/loc\u001B[39;00m\n\u001B[0;32m--> 891\u001B[0m         \u001B[38;5;28;01mreturn\u001B[39;00m \u001B[38;5;28;43mgetattr\u001B[39;49m\u001B[43m(\u001B[49m\u001B[43msection\u001B[49m\u001B[43m,\u001B[49m\u001B[43m \u001B[49m\u001B[38;5;28;43mself\u001B[39;49m\u001B[38;5;241;43m.\u001B[39;49m\u001B[43mname\u001B[49m\u001B[43m)\u001B[49m\u001B[43m[\u001B[49m\u001B[43mnew_key\u001B[49m\u001B[43m]\u001B[49m\n\u001B[1;32m    893\u001B[0m \u001B[38;5;28;01mraise\u001B[39;00m IndexingError(\u001B[38;5;124m\"\u001B[39m\u001B[38;5;124mnot applicable\u001B[39m\u001B[38;5;124m\"\u001B[39m)\n",
      "File \u001B[0;32m~/opt/anaconda3/lib/python3.9/site-packages/pandas/core/indexing.py:967\u001B[0m, in \u001B[0;36m_LocationIndexer.__getitem__\u001B[0;34m(self, key)\u001B[0m\n\u001B[1;32m    964\u001B[0m axis \u001B[38;5;241m=\u001B[39m \u001B[38;5;28mself\u001B[39m\u001B[38;5;241m.\u001B[39maxis \u001B[38;5;129;01mor\u001B[39;00m \u001B[38;5;241m0\u001B[39m\n\u001B[1;32m    966\u001B[0m maybe_callable \u001B[38;5;241m=\u001B[39m com\u001B[38;5;241m.\u001B[39mapply_if_callable(key, \u001B[38;5;28mself\u001B[39m\u001B[38;5;241m.\u001B[39mobj)\n\u001B[0;32m--> 967\u001B[0m \u001B[38;5;28;01mreturn\u001B[39;00m \u001B[38;5;28;43mself\u001B[39;49m\u001B[38;5;241;43m.\u001B[39;49m\u001B[43m_getitem_axis\u001B[49m\u001B[43m(\u001B[49m\u001B[43mmaybe_callable\u001B[49m\u001B[43m,\u001B[49m\u001B[43m \u001B[49m\u001B[43maxis\u001B[49m\u001B[38;5;241;43m=\u001B[39;49m\u001B[43maxis\u001B[49m\u001B[43m)\u001B[49m\n",
      "File \u001B[0;32m~/opt/anaconda3/lib/python3.9/site-packages/pandas/core/indexing.py:1191\u001B[0m, in \u001B[0;36m_LocIndexer._getitem_axis\u001B[0;34m(self, key, axis)\u001B[0m\n\u001B[1;32m   1188\u001B[0m     \u001B[38;5;28;01mif\u001B[39;00m \u001B[38;5;28mhasattr\u001B[39m(key, \u001B[38;5;124m\"\u001B[39m\u001B[38;5;124mndim\u001B[39m\u001B[38;5;124m\"\u001B[39m) \u001B[38;5;129;01mand\u001B[39;00m key\u001B[38;5;241m.\u001B[39mndim \u001B[38;5;241m>\u001B[39m \u001B[38;5;241m1\u001B[39m:\n\u001B[1;32m   1189\u001B[0m         \u001B[38;5;28;01mraise\u001B[39;00m \u001B[38;5;167;01mValueError\u001B[39;00m(\u001B[38;5;124m\"\u001B[39m\u001B[38;5;124mCannot index with multidimensional key\u001B[39m\u001B[38;5;124m\"\u001B[39m)\n\u001B[0;32m-> 1191\u001B[0m     \u001B[38;5;28;01mreturn\u001B[39;00m \u001B[38;5;28;43mself\u001B[39;49m\u001B[38;5;241;43m.\u001B[39;49m\u001B[43m_getitem_iterable\u001B[49m\u001B[43m(\u001B[49m\u001B[43mkey\u001B[49m\u001B[43m,\u001B[49m\u001B[43m \u001B[49m\u001B[43maxis\u001B[49m\u001B[38;5;241;43m=\u001B[39;49m\u001B[43maxis\u001B[49m\u001B[43m)\u001B[49m\n\u001B[1;32m   1193\u001B[0m \u001B[38;5;66;03m# nested tuple slicing\u001B[39;00m\n\u001B[1;32m   1194\u001B[0m \u001B[38;5;28;01mif\u001B[39;00m is_nested_tuple(key, labels):\n",
      "File \u001B[0;32m~/opt/anaconda3/lib/python3.9/site-packages/pandas/core/indexing.py:1132\u001B[0m, in \u001B[0;36m_LocIndexer._getitem_iterable\u001B[0;34m(self, key, axis)\u001B[0m\n\u001B[1;32m   1129\u001B[0m \u001B[38;5;28mself\u001B[39m\u001B[38;5;241m.\u001B[39m_validate_key(key, axis)\n\u001B[1;32m   1131\u001B[0m \u001B[38;5;66;03m# A collection of keys\u001B[39;00m\n\u001B[0;32m-> 1132\u001B[0m keyarr, indexer \u001B[38;5;241m=\u001B[39m \u001B[38;5;28;43mself\u001B[39;49m\u001B[38;5;241;43m.\u001B[39;49m\u001B[43m_get_listlike_indexer\u001B[49m\u001B[43m(\u001B[49m\u001B[43mkey\u001B[49m\u001B[43m,\u001B[49m\u001B[43m \u001B[49m\u001B[43maxis\u001B[49m\u001B[43m)\u001B[49m\n\u001B[1;32m   1133\u001B[0m \u001B[38;5;28;01mreturn\u001B[39;00m \u001B[38;5;28mself\u001B[39m\u001B[38;5;241m.\u001B[39mobj\u001B[38;5;241m.\u001B[39m_reindex_with_indexers(\n\u001B[1;32m   1134\u001B[0m     {axis: [keyarr, indexer]}, copy\u001B[38;5;241m=\u001B[39m\u001B[38;5;28;01mTrue\u001B[39;00m, allow_dups\u001B[38;5;241m=\u001B[39m\u001B[38;5;28;01mTrue\u001B[39;00m\n\u001B[1;32m   1135\u001B[0m )\n",
      "File \u001B[0;32m~/opt/anaconda3/lib/python3.9/site-packages/pandas/core/indexing.py:1327\u001B[0m, in \u001B[0;36m_LocIndexer._get_listlike_indexer\u001B[0;34m(self, key, axis)\u001B[0m\n\u001B[1;32m   1324\u001B[0m ax \u001B[38;5;241m=\u001B[39m \u001B[38;5;28mself\u001B[39m\u001B[38;5;241m.\u001B[39mobj\u001B[38;5;241m.\u001B[39m_get_axis(axis)\n\u001B[1;32m   1325\u001B[0m axis_name \u001B[38;5;241m=\u001B[39m \u001B[38;5;28mself\u001B[39m\u001B[38;5;241m.\u001B[39mobj\u001B[38;5;241m.\u001B[39m_get_axis_name(axis)\n\u001B[0;32m-> 1327\u001B[0m keyarr, indexer \u001B[38;5;241m=\u001B[39m \u001B[43max\u001B[49m\u001B[38;5;241;43m.\u001B[39;49m\u001B[43m_get_indexer_strict\u001B[49m\u001B[43m(\u001B[49m\u001B[43mkey\u001B[49m\u001B[43m,\u001B[49m\u001B[43m \u001B[49m\u001B[43maxis_name\u001B[49m\u001B[43m)\u001B[49m\n\u001B[1;32m   1329\u001B[0m \u001B[38;5;28;01mreturn\u001B[39;00m keyarr, indexer\n",
      "File \u001B[0;32m~/opt/anaconda3/lib/python3.9/site-packages/pandas/core/indexes/base.py:5780\u001B[0m, in \u001B[0;36mIndex._get_indexer_strict\u001B[0;34m(self, key, axis_name)\u001B[0m\n\u001B[1;32m   5778\u001B[0m     keyarr \u001B[38;5;241m=\u001B[39m \u001B[38;5;28mself\u001B[39m\u001B[38;5;241m.\u001B[39mreindex(keyarr)[\u001B[38;5;241m0\u001B[39m]\n\u001B[1;32m   5779\u001B[0m \u001B[38;5;28;01melse\u001B[39;00m:\n\u001B[0;32m-> 5780\u001B[0m     keyarr, indexer, new_indexer \u001B[38;5;241m=\u001B[39m \u001B[38;5;28;43mself\u001B[39;49m\u001B[38;5;241;43m.\u001B[39;49m\u001B[43m_reindex_non_unique\u001B[49m\u001B[43m(\u001B[49m\u001B[43mkeyarr\u001B[49m\u001B[43m)\u001B[49m\n\u001B[1;32m   5782\u001B[0m \u001B[38;5;28mself\u001B[39m\u001B[38;5;241m.\u001B[39m_raise_if_missing(keyarr, indexer, axis_name)\n\u001B[1;32m   5784\u001B[0m keyarr \u001B[38;5;241m=\u001B[39m \u001B[38;5;28mself\u001B[39m\u001B[38;5;241m.\u001B[39mtake(indexer)\n",
      "File \u001B[0;32m~/opt/anaconda3/lib/python3.9/site-packages/pandas/core/indexes/base.py:4262\u001B[0m, in \u001B[0;36mIndex._reindex_non_unique\u001B[0;34m(self, target)\u001B[0m\n\u001B[1;32m   4258\u001B[0m \u001B[38;5;28;01mif\u001B[39;00m \u001B[38;5;28mlen\u001B[39m(target) \u001B[38;5;241m==\u001B[39m \u001B[38;5;241m0\u001B[39m:\n\u001B[1;32m   4259\u001B[0m     \u001B[38;5;66;03m# GH#13691\u001B[39;00m\n\u001B[1;32m   4260\u001B[0m     \u001B[38;5;28;01mreturn\u001B[39;00m \u001B[38;5;28mself\u001B[39m[:\u001B[38;5;241m0\u001B[39m], np\u001B[38;5;241m.\u001B[39marray([], dtype\u001B[38;5;241m=\u001B[39mnp\u001B[38;5;241m.\u001B[39mintp), \u001B[38;5;28;01mNone\u001B[39;00m\n\u001B[0;32m-> 4262\u001B[0m indexer, missing \u001B[38;5;241m=\u001B[39m \u001B[38;5;28;43mself\u001B[39;49m\u001B[38;5;241;43m.\u001B[39;49m\u001B[43mget_indexer_non_unique\u001B[49m\u001B[43m(\u001B[49m\u001B[43mtarget\u001B[49m\u001B[43m)\u001B[49m\n\u001B[1;32m   4263\u001B[0m check \u001B[38;5;241m=\u001B[39m indexer \u001B[38;5;241m!=\u001B[39m \u001B[38;5;241m-\u001B[39m\u001B[38;5;241m1\u001B[39m\n\u001B[1;32m   4264\u001B[0m new_labels \u001B[38;5;241m=\u001B[39m \u001B[38;5;28mself\u001B[39m\u001B[38;5;241m.\u001B[39mtake(indexer[check])\n",
      "File \u001B[0;32m~/opt/anaconda3/lib/python3.9/site-packages/pandas/core/indexes/base.py:5741\u001B[0m, in \u001B[0;36mIndex.get_indexer_non_unique\u001B[0;34m(self, target)\u001B[0m\n\u001B[1;32m   5736\u001B[0m     \u001B[38;5;66;03m# error: \"IndexEngine\" has no attribute \"_extract_level_codes\"\u001B[39;00m\n\u001B[1;32m   5737\u001B[0m     tgt_values \u001B[38;5;241m=\u001B[39m engine\u001B[38;5;241m.\u001B[39m_extract_level_codes(  \u001B[38;5;66;03m# type: ignore[attr-defined]\u001B[39;00m\n\u001B[1;32m   5738\u001B[0m         target\n\u001B[1;32m   5739\u001B[0m     )\n\u001B[0;32m-> 5741\u001B[0m indexer, missing \u001B[38;5;241m=\u001B[39m \u001B[38;5;28;43mself\u001B[39;49m\u001B[38;5;241;43m.\u001B[39;49m\u001B[43m_engine\u001B[49m\u001B[38;5;241;43m.\u001B[39;49m\u001B[43mget_indexer_non_unique\u001B[49m\u001B[43m(\u001B[49m\u001B[43mtgt_values\u001B[49m\u001B[43m)\u001B[49m\n\u001B[1;32m   5742\u001B[0m \u001B[38;5;28;01mreturn\u001B[39;00m ensure_platform_int(indexer), ensure_platform_int(missing)\n",
      "\u001B[0;31mKeyboardInterrupt\u001B[0m: "
     ]
    }
   ],
   "source": [
    "geneva_skin_meteo_matchup = matchup(geneva_skin_df, geneva_meteo_df, geneva_cols_meteo_2, geneva_cols_meteo_names)\n",
    "display(geneva_skin_meteo_matchup)"
   ],
   "metadata": {
    "collapsed": false
   }
  },
  {
   "cell_type": "code",
   "execution_count": 496,
   "outputs": [
    {
     "data": {
      "text/plain": "Empty DataFrame\nColumns: [x, y, y1, air_temp, wind_speed, air_pressure, rel_humidity, sol_irr, meteo_timestamp]\nIndex: []",
      "text/html": "<div>\n<style scoped>\n    .dataframe tbody tr th:only-of-type {\n        vertical-align: middle;\n    }\n\n    .dataframe tbody tr th {\n        vertical-align: top;\n    }\n\n    .dataframe thead th {\n        text-align: right;\n    }\n</style>\n<table border=\"1\" class=\"dataframe\">\n  <thead>\n    <tr style=\"text-align: right;\">\n      <th></th>\n      <th>x</th>\n      <th>y</th>\n      <th>y1</th>\n      <th>air_temp</th>\n      <th>wind_speed</th>\n      <th>air_pressure</th>\n      <th>rel_humidity</th>\n      <th>sol_irr</th>\n      <th>meteo_timestamp</th>\n    </tr>\n  </thead>\n  <tbody>\n  </tbody>\n</table>\n</div>"
     },
     "metadata": {},
     "output_type": "display_data"
    }
   ],
   "source": [
    "aegeri_skin_meteo_matchup = matchup(aegeri_skin_df, aegeri_meteo_df, aegeri_cols_meteo_2, aegeri_cols_meteo_names)\n",
    "display(aegeri_skin_meteo_matchup)"
   ],
   "metadata": {
    "collapsed": false
   }
  },
  {
   "cell_type": "code",
   "execution_count": 474,
   "outputs": [],
   "source": [
    "aegeri = aegeri_skin_meteo_matchup.copy()\n",
    "aegeri = add_datetime_to_df(aegeri, 'skin')\n",
    "aegeri = add_datetime_to_df(aegeri, 'meteo').sort_index()\n",
    "aegeri.to_csv('/Users/olbu/Documents/uni/FS_23/WASY/project_code/data/output/aegeri_matchup_skin_meteo_v2.csv')"
   ],
   "metadata": {
    "collapsed": false
   }
  },
  {
   "cell_type": "code",
   "execution_count": 476,
   "outputs": [
    {
     "name": "stderr",
     "output_type": "stream",
     "text": [
      "/var/folders/tg/xj2cj8vx7319_nt0480rbkm80000gn/T/ipykernel_760/1109458458.py:4: FutureWarning: In a future version of pandas all arguments of DataFrame.drop except for the argument 'labels' will be keyword-only.\n",
      "  geneva.drop(['y1', 'y4'], 1)\n"
     ]
    }
   ],
   "source": [
    "geneva = geneva_skin_meteo_matchup.copy()\n",
    "geneva = add_datetime_to_df(geneva, 'skin')\n",
    "geneva = add_datetime_to_df(geneva, 'meteo').drop(['y1', 'y4'], 1).sort_index()\n",
    "geneva.to_csv('/Users/olbu/Documents/uni/FS_23/WASY/project_code/data/output/geneva_matchup_skin_meteo_v2.csv')\n"
   ],
   "metadata": {
    "collapsed": false
   }
  },
  {
   "cell_type": "code",
   "execution_count": 479,
   "outputs": [
    {
     "data": {
      "text/plain": "[<matplotlib.lines.Line2D at 0x7f8c6a5963d0>]"
     },
     "execution_count": 479,
     "metadata": {},
     "output_type": "execute_result"
    },
    {
     "data": {
      "text/plain": "<Figure size 432x288 with 1 Axes>",
      "image/png": "[encoded data removed]"
     },
     "metadata": {
      "needs_background": "light"
     },
     "output_type": "display_data"
    }
   ],
   "source": [],
   "metadata": {
    "collapsed": false
   }
  },
  {
   "cell_type": "code",
   "execution_count": null,
   "outputs": [],
   "source": [],
   "metadata": {
    "collapsed": false
   }
  }
 ],
 "metadata": {
  "kernelspec": {
   "display_name": "Python 3",
   "language": "python",
   "name": "python3"
  },
  "language_info": {
   "codemirror_mode": {
    "name": "ipython",
    "version": 2
   },
   "file_extension": ".py",
   "mimetype": "text/x-python",
   "name": "python",
   "nbconvert_exporter": "python",
   "pygments_lexer": "ipython2",
   "version": "2.7.6"
  }
 },
 "nbformat": 4,
 "nbformat_minor": 0
}
